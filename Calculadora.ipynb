{
  "nbformat": 4,
  "nbformat_minor": 0,
  "metadata": {
    "colab": {
      "provenance": [],
      "authorship_tag": "ABX9TyNcpfKbJGFyys8uLCeCrwzU",
      "include_colab_link": true
    },
    "kernelspec": {
      "name": "python3",
      "display_name": "Python 3"
    },
    "language_info": {
      "name": "python"
    }
  },
  "cells": [
    {
      "cell_type": "markdown",
      "metadata": {
        "id": "view-in-github",
        "colab_type": "text"
      },
      "source": [
        "<a href=\"https://colab.research.google.com/github/ErikaEstudos/PROZ-BY-AWS/blob/main/Calculadora.ipynb\" target=\"_parent\"><img src=\"https://colab.research.google.com/assets/colab-badge.svg\" alt=\"Open In Colab\"/></a>"
      ]
    },
    {
      "cell_type": "code",
      "execution_count": 21,
      "metadata": {
        "colab": {
          "base_uri": "https://localhost:8080/"
        },
        "id": "xBrNc9uF9Ccq",
        "outputId": "b56937e7-2841-4985-8082-f6b124004916"
      },
      "outputs": [
        {
          "output_type": "stream",
          "name": "stdout",
          "text": [
            "Digite o primeiro número: 20\n",
            "Digite o segundo número: 0\n",
            "Escolha a operação (1:Soma, 2:Subtração, 3:Multiplicação, 4:Divisão): 4\n",
            "Resultado: Erro: Divisão por zero não é permitida.\n"
          ]
        }
      ],
      "source": [
        "def calculadora(num1, num2, operacao):\n",
        "    if operacao == 1:\n",
        "        return num1 + num2\n",
        "    elif operacao == 2:\n",
        "        return num1 - num2\n",
        "    elif operacao == 3:\n",
        "        return num1 * num2\n",
        "    elif operacao == 4:\n",
        "        if num2 != 0:\n",
        "            return num1 / num2\n",
        "        else:\n",
        "            return \"Erro: Divisão por zero não existe.\"\n",
        "    else:\n",
        "        return 0\n",
        "\n",
        "num1 = float(input(\"Digite o primeiro número: \"))\n",
        "num2 = float(input(\"Digite o segundo número: \"))\n",
        "operacao = int(input(\"Escolha a operação (1:Soma, 2:Subtração, 3:Multiplicação, 4:Divisão): \"))\n",
        "\n",
        "resultado = calculadora(num1, num2, operacao)\n",
        "print(\"Resultado:\", resultado)"
      ]
    }
  ]
}