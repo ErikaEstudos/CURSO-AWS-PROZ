{
  "nbformat": 4,
  "nbformat_minor": 0,
  "metadata": {
    "colab": {
      "provenance": [],
      "authorship_tag": "ABX9TyPbmoPF0Tjdau2vl19NzYIK",
      "include_colab_link": true
    },
    "kernelspec": {
      "name": "python3",
      "display_name": "Python 3"
    },
    "language_info": {
      "name": "python"
    }
  },
  "cells": [
    {
      "cell_type": "markdown",
      "metadata": {
        "id": "view-in-github",
        "colab_type": "text"
      },
      "source": [
        "<a href=\"https://colab.research.google.com/github/ErikaEstudos/PROZ-BY-AWS/blob/main/Dados_do_Usuario.ipynb\" target=\"_parent\"><img src=\"https://colab.research.google.com/assets/colab-badge.svg\" alt=\"Open In Colab\"/></a>"
      ]
    },
    {
      "cell_type": "code",
      "source": [
        "nome_completo = input(\"Digite seu nome completo: \")\n",
        "\n",
        "while True:\n",
        "    try:\n",
        "        ano_nascimento = int(input(\"Digite o ano de nascimento (entre 1922 e 2021): \"))\n",
        "        if 1922 <= ano_nascimento <= 2021:\n",
        "            break\n",
        "        else:\n",
        "            print(\"Ano inválido. Deve estar entre 1922 e 2021.\")\n",
        "    except Exception as e:\n",
        "        print(\"Entrada inválida. Por favor, digite um número.\")\n",
        "\n",
        "idade = 2022 - ano_nascimento\n",
        "print(f\"{nome_completo}, você completou ou completará {idade} anos em 2022.\")"
      ],
      "metadata": {
        "colab": {
          "base_uri": "https://localhost:8080/"
        },
        "id": "PEJoTVQy6JQz",
        "outputId": "39cbead2-4858-413d-eeed-775a866aa524"
      },
      "execution_count": 17,
      "outputs": [
        {
          "output_type": "stream",
          "name": "stdout",
          "text": [
            "Digite seu nome completo: Erika Oliveira\n",
            "Digite o ano de nascimento (entre 1922 e 2021): 2024\n",
            "Ano inválido. Deve estar entre 1922 e 2021.\n",
            "Digite o ano de nascimento (entre 1922 e 2021): EEEE\n",
            "Entrada inválida. Por favor, digite um número.\n",
            "Digite o ano de nascimento (entre 1922 e 2021): 1981\n",
            "Erika Oliveira, você completou ou completará 41 anos em 2022.\n"
          ]
        }
      ]
    }
  ]
}