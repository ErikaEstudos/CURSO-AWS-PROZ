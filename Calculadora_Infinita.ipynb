{
  "nbformat": 4,
  "nbformat_minor": 0,
  "metadata": {
    "colab": {
      "provenance": [],
      "authorship_tag": "ABX9TyMsP0z6KtKees3hazAqOUn5",
      "include_colab_link": true
    },
    "kernelspec": {
      "name": "python3",
      "display_name": "Python 3"
    },
    "language_info": {
      "name": "python"
    }
  },
  "cells": [
    {
      "cell_type": "markdown",
      "metadata": {
        "id": "view-in-github",
        "colab_type": "text"
      },
      "source": [
        "<a href=\"https://colab.research.google.com/github/ErikaEstudos/PROZ-BY-AWS/blob/main/Calculadora_Infinita.ipynb\" target=\"_parent\"><img src=\"https://colab.research.google.com/assets/colab-badge.svg\" alt=\"Open In Colab\"/></a>"
      ]
    },
    {
      "cell_type": "code",
      "execution_count": 3,
      "metadata": {
        "colab": {
          "base_uri": "https://localhost:8080/"
        },
        "id": "WDKgqGV9fOfR",
        "outputId": "4fbe49f2-5489-4aa9-b3e6-070e41d1cc6a"
      },
      "outputs": [
        {
          "output_type": "stream",
          "name": "stdout",
          "text": [
            "\n",
            "Selecione a operação:\n",
            "1: Soma\n",
            "2: Subtração\n",
            "3: Multiplicação\n",
            "4: Divisão\n",
            "0: Sair\n",
            "Escolha a opção desejada: 1\n",
            "Digite o primeiro número: 2\n",
            "Digite o segundo número: 3\n",
            "Resultado: 5.0\n",
            "\n",
            "Selecione a operação:\n",
            "1: Soma\n",
            "2: Subtração\n",
            "3: Multiplicação\n",
            "4: Divisão\n",
            "0: Sair\n",
            "Escolha a opção desejada: 3\n",
            "Digite o primeiro número: 6\n",
            "Digite o segundo número: 2\n",
            "Resultado: 12.0\n",
            "\n",
            "Selecione a operação:\n",
            "1: Soma\n",
            "2: Subtração\n",
            "3: Multiplicação\n",
            "4: Divisão\n",
            "0: Sair\n",
            "Escolha a opção desejada: 0\n",
            "Sair\n"
          ]
        }
      ],
      "source": [
        "def calculadora_infinita(num1, num2, operacao):\n",
        "    if operacao == 1:\n",
        "        return num1 + num2\n",
        "    elif operacao == 2:\n",
        "        return num1 - num2\n",
        "    elif operacao == 3:\n",
        "        return num1 * num2\n",
        "    elif operacao == 4:\n",
        "        if num2 != 0:\n",
        "            return num1 / num2\n",
        "        else:\n",
        "            return \"Erro: Divisão por zero não existe.\"\n",
        "    else:\n",
        "        return \"Operação inválida.\"\n",
        "\n",
        "while True:\n",
        "    print(\"\\nSelecione a operação:\")\n",
        "    print(\"1: Soma\")\n",
        "    print(\"2: Subtração\")\n",
        "    print(\"3: Multiplicação\")\n",
        "    print(\"4: Divisão\")\n",
        "    print(\"0: Sair\")\n",
        "\n",
        "    operacao = int(input(\"Escolha a opção desejada: \"))\n",
        "\n",
        "    if operacao == 0:\n",
        "        print(\"Sair\")\n",
        "        break\n",
        "    elif operacao not in [1, 2, 3, 4]:\n",
        "        print(\"Essa opção não existe\")\n",
        "        continue\n",
        "\n",
        "    num1 = float(input(\"Digite o primeiro número: \"))\n",
        "    num2 = float(input(\"Digite o segundo número: \"))\n",
        "\n",
        "    resultado = calculadora_infinita(num1, num2, operacao)\n",
        "    print(\"Resultado:\", resultado)\n"
      ]
    },
    {
      "cell_type": "code",
      "source": [],
      "metadata": {
        "id": "1VKJOJf-mcmY"
      },
      "execution_count": null,
      "outputs": []
    }
  ]
}