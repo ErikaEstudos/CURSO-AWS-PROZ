{
  "nbformat": 4,
  "nbformat_minor": 0,
  "metadata": {
    "colab": {
      "provenance": [],
      "authorship_tag": "ABX9TyMnprnh2u4eE8fbm+qBdYzd",
      "include_colab_link": true
    },
    "kernelspec": {
      "name": "python3",
      "display_name": "Python 3"
    },
    "language_info": {
      "name": "python"
    }
  },
  "cells": [
    {
      "cell_type": "markdown",
      "metadata": {
        "id": "view-in-github",
        "colab_type": "text"
      },
      "source": [
        "<a href=\"https://colab.research.google.com/github/ErikaEstudos/PROZ-BY-AWS/blob/main/Pedra_Tesoura_Papel.ipynb\" target=\"_parent\"><img src=\"https://colab.research.google.com/assets/colab-badge.svg\" alt=\"Open In Colab\"/></a>"
      ]
    },
    {
      "cell_type": "code",
      "execution_count": 4,
      "metadata": {
        "colab": {
          "base_uri": "https://localhost:8080/"
        },
        "id": "vSmdihW4oN4L",
        "outputId": "4e0fc5eb-2a11-4988-fdc0-5d56a69c98aa"
      },
      "outputs": [
        {
          "output_type": "stream",
          "name": "stdout",
          "text": [
            "--- Seja Bem Vindo!! Vamos Jogar? ---\n",
            "\n",
            "Digite seu nome: Erika\n",
            "Suas escolhas são:\n",
            "Pedra\n",
            "Tesoura\n",
            "Papel\n",
            "\n",
            "Qual a sua escolha, Erika? pedra\n",
            "Computador escolheu: Pedra\n",
            "\n",
            "Empate!\n",
            "Pontuação: Erika 0 - 0 Computador\n",
            "\n",
            "Você quer jogar novamente? (s/n): s\n",
            "Suas escolhas são:\n",
            "Pedra\n",
            "Tesoura\n",
            "Papel\n",
            "\n",
            "Qual a sua escolha, Erika? papel\n",
            "Computador escolheu: Pedra\n",
            "\n",
            "Você ganhou!\n",
            "Pontuação: Erika 1 - 0 Computador\n",
            "\n",
            "Você quer jogar novamente? (s/n): s\n",
            "Suas escolhas são:\n",
            "Pedra\n",
            "Tesoura\n",
            "Papel\n",
            "\n",
            "Qual a sua escolha, Erika? tesoura\n",
            "Computador escolheu: Tesoura\n",
            "\n",
            "Empate!\n",
            "Pontuação: Erika 1 - 0 Computador\n",
            "\n",
            "Você quer jogar novamente? (s/n): n\n",
            "Jogo acabou...\n",
            "Pontuação final: Erika 1 - 0 Computador\n",
            "Obrigada por jogar!\n"
          ]
        }
      ],
      "source": [
        "import random\n",
        "\n",
        "print(\"--- Seja Bem Vindo!! Vamos Jogar? ---\\n\")\n",
        "\n",
        "escolhas = [\"Pedra\", \"Tesoura\", \"Papel\"]\n",
        "\n",
        "pontuacao_usuario = 0\n",
        "pontuacao_computador = 0\n",
        "\n",
        "while True:\n",
        "  seu_nome = input(\"Digite seu nome: \")\n",
        "  if seu_nome.isalpha():\n",
        "    break\n",
        "  else:\n",
        "    print(\"Nome inválido. Por favor, insira seu nome.\\n\")\n",
        "\n",
        "while True:\n",
        "    try:\n",
        "        print(\"Suas escolhas são:\\nPedra\\nTesoura\\nPapel\\n\")\n",
        "        escolha_nossa = input(f\"Qual a sua escolha, {seu_nome}? \").capitalize()\n",
        "\n",
        "        if escolha_nossa not in escolhas:\n",
        "            raise ValueError(\"Escolha inválida, tente novamente.\")\n",
        "\n",
        "        escolha_computador = random.choice(escolhas)\n",
        "        print(f\"Computador escolheu: {escolha_computador}\\n\")\n",
        "\n",
        "        if escolha_nossa == escolha_computador:\n",
        "            print(\"Empate!\")\n",
        "\n",
        "        elif (escolha_nossa == \"Pedra\" and escolha_computador == \"Tesoura\") or \\\n",
        "             (escolha_nossa == \"Tesoura\" and escolha_computador == \"Papel\") or \\\n",
        "             (escolha_nossa == \"Papel\" and escolha_computador == \"Pedra\"):\n",
        "            print(\"Você ganhou!\")\n",
        "            pontuacao_usuario += 1\n",
        "        else:\n",
        "            print(\"Computador ganhou!\")\n",
        "            pontuacao_computador += 1\n",
        "\n",
        "        print(f\"Pontuação: {seu_nome} {pontuacao_usuario} - {pontuacao_computador} Computador\\n\")\n",
        "\n",
        "        jogar_novamente = input(\"Você quer jogar novamente? (s/n): \")\n",
        "\n",
        "        if jogar_novamente not in ['s', 'n']:\n",
        "            raise ValueError(\"Resposta inválida, digite 's' para sim ou 'n' para não.\")\n",
        "        if jogar_novamente == 'n':\n",
        "            break\n",
        "\n",
        "    except Exception as e:\n",
        "        print(f\"Ocorreu um erro inesperado: {e}\")\n",
        "\n",
        "print(f\"Jogo acabou...\\nPontuação final: {seu_nome} {pontuacao_usuario} - {pontuacao_computador} Computador\")\n",
        "print(\"Obrigada por jogar!\")\n"
      ]
    }
  ]
}