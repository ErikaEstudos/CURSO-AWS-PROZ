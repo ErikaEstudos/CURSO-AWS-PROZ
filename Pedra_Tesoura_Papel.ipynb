{
  "nbformat": 4,
  "nbformat_minor": 0,
  "metadata": {
    "colab": {
      "provenance": [],
      "authorship_tag": "ABX9TyMVLWTuJqt9LiJHi4RFBB6d",
      "include_colab_link": true
    },
    "kernelspec": {
      "name": "python3",
      "display_name": "Python 3"
    },
    "language_info": {
      "name": "python"
    }
  },
  "cells": [
    {
      "cell_type": "markdown",
      "metadata": {
        "id": "view-in-github",
        "colab_type": "text"
      },
      "source": [
        "<a href=\"https://colab.research.google.com/github/ErikaEstudos/PROZ-BY-AWS/blob/main/Pedra_Tesoura_Papel.ipynb\" target=\"_parent\"><img src=\"https://colab.research.google.com/assets/colab-badge.svg\" alt=\"Open In Colab\"/></a>"
      ]
    },
    {
      "cell_type": "code",
      "execution_count": 3,
      "metadata": {
        "colab": {
          "base_uri": "https://localhost:8080/"
        },
        "id": "vSmdihW4oN4L",
        "outputId": "ea8a0b0a-395f-4b2f-de4d-f3f43cd37559"
      },
      "outputs": [
        {
          "output_type": "stream",
          "name": "stdout",
          "text": [
            "---Seja Bem Vindo!! Vamos Jogar?---\n",
            "\n",
            "Digite seu nome: Erika\n",
            "Suas escolhas são:\n",
            "Pedra\n",
            "Tesoura\n",
            "Papel\n",
            "\n",
            "Qual a sua escolha Erika? pedra\n",
            "Computador escolheu: Papel\n",
            "\n",
            "Computador ganhou!\n",
            "Pontuação: Você 0 - 1 Computador\n",
            "\n",
            "Você quer jogar novamente? (s/n): s\n",
            "Suas escolhas são:\n",
            "Pedra\n",
            "Tesoura\n",
            "Papel\n",
            "\n",
            "Qual a sua escolha Erika? tesoura\n",
            "Computador escolheu: Tesoura\n",
            "\n",
            "Empate!\n",
            "Pontuação: Você 0 - 1 Computador\n",
            "\n",
            "Você quer jogar novamente? (s/n): s\n",
            "Suas escolhas são:\n",
            "Pedra\n",
            "Tesoura\n",
            "Papel\n",
            "\n",
            "Qual a sua escolha Erika? papel\n",
            "Computador escolheu: Tesoura\n",
            "\n",
            "Computador ganhou!\n",
            "Pontuação: Você 0 - 2 Computador\n",
            "\n",
            "Você quer jogar novamente? (s/n): s\n",
            "Suas escolhas são:\n",
            "Pedra\n",
            "Tesoura\n",
            "Papel\n",
            "\n",
            "Qual a sua escolha Erika? pedra\n",
            "Computador escolheu: Tesoura\n",
            "\n",
            "Você ganhou!\n",
            "Pontuação: Você 1 - 2 Computador\n",
            "\n",
            "Você quer jogar novamente? (s/n): n\n",
            "Jogo acabou... Pontuação final: Erika 1 - 2 Computador\n",
            "\n",
            "Obrigada por jogar!\n"
          ]
        }
      ],
      "source": [
        "import random\n",
        "\n",
        "print(\"---Seja Bem Vindo!! Vamos Jogar?---\\n\")\n",
        "\n",
        "escolha = [\"Pedra\", \"Tesoura\", \"Papel\"]\n",
        "\n",
        "pontuacao_usuario = 0\n",
        "pontuacao_computador = 0\n",
        "\n",
        "\n",
        "seu_nome = input(\"Digite seu nome: \")\n",
        "\n",
        "\n",
        "while True:\n",
        "        print(\"Suas escolhas são:\\nPedra\\nTesoura\\nPapel\\n\")\n",
        "        escolha_nossa = input(f\"Qual a sua escolha {seu_nome}? \").capitalize()\n",
        "\n",
        "        if escolha_nossa not in escolha:\n",
        "            print(\"Escolha inválida, tente novamente.\")\n",
        "            continue\n",
        "\n",
        "        escolha_computador = random.choice(escolha)\n",
        "\n",
        "        print(f\"Computador escolheu: {escolha_computador}\\n\")\n",
        "\n",
        "        if escolha_nossa == escolha_computador:\n",
        "            print(\"Empate!\")\n",
        "        elif escolha_nossa == \"Pedra\" and escolha_computador == \"Tesoura\":\n",
        "            print(\"Você ganhou!\")\n",
        "            pontuacao_usuario += 1\n",
        "        elif escolha_nossa == \"Pedra\" and escolha_computador == \"Papel\":\n",
        "            print(\"Computador ganhou!\")\n",
        "            pontuacao_computador += 1\n",
        "        elif escolha_nossa == \"Tesoura\" and escolha_computador == \"Papel\":\n",
        "            print(\"Você ganhou!\")\n",
        "            pontuacao_usuario += 1\n",
        "        elif escolha_nossa == \"Tesoura\" and escolha_computador == \"Pedra\":\n",
        "            print(\"Computador ganhou!\")\n",
        "            pontuacao_computador += 1\n",
        "        elif escolha_nossa == \"Papel\" and escolha_computador == \"Pedra\":\n",
        "            print(\"Você ganhou!\")\n",
        "            pontuacao_usuario += 1\n",
        "        elif escolha_nossa == \"Papel\" and escolha_computador == \"Tesoura\":\n",
        "            print(\"Computador ganhou!\")\n",
        "            pontuacao_computador += 1\n",
        "\n",
        "        print(f\"Pontuação: Você {pontuacao_usuario} - {pontuacao_computador} Computador\\n\")\n",
        "\n",
        "        jogar_novamente = input(\"Você quer jogar novamente? (s/n): \").lower()\n",
        "        if jogar_novamente != 's':\n",
        "            break\n",
        "\n",
        "print(f\"Jogo acabou... Pontuação final: {seu_nome} {pontuacao_usuario} - {pontuacao_computador} Computador\\n\")\n",
        "print(\"Obrigada por jogar!\")"
      ]
    }
  ]
}